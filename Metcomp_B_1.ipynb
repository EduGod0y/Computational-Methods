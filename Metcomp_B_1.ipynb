{
  "nbformat": 4,
  "nbformat_minor": 0,
  "metadata": {
    "colab": {
      "provenance": [],
      "authorship_tag": "ABX9TyOmi8ws9NxgGv4fm67FIwYe",
      "include_colab_link": true
    },
    "kernelspec": {
      "name": "python3",
      "display_name": "Python 3"
    }
  },
  "cells": [
    {
      "cell_type": "markdown",
      "metadata": {
        "id": "view-in-github",
        "colab_type": "text"
      },
      "source": [
        "<a href=\"https://colab.research.google.com/github/EduGod0y/Computational-Methods/blob/main/Metcomp_B_1.ipynb\" target=\"_parent\"><img src=\"https://colab.research.google.com/assets/colab-badge.svg\" alt=\"Open In Colab\"/></a>"
      ]
    },
    {
      "cell_type": "code",
      "metadata": {
        "colab": {
          "base_uri": "https://localhost:8080/",
          "height": 315
        },
        "id": "vzEobpH9RuE4",
        "outputId": "80817b14-2835-4bdd-c08c-eeb14945b40b"
      },
      "source": [
        "#Decaimento radioatvio do Rubídio\n",
        "import math\n",
        "import numpy as np\n",
        "import matplotlib.pyplot as plt\n",
        "\n",
        "def decaimento(dt,alpha,t,N0):\n",
        " N = np.zeros(dt*t + 1)\n",
        " N[0] = N0\n",
        "\n",
        " T = np.zeros(dt*t + 1)\n",
        " \n",
        " for i in range(0,dt*t):\n",
        "   N[i+dt] = (1 - alpha*dt) * N[i]\n",
        "   T[i+dt] = T[i]+dt\n",
        " return N,T\n",
        "\n",
        "dt = 1\n",
        "alpha = 9.24*10**-3\n",
        "t = 1000\n",
        "N0 = 1000\n",
        "N, T = decaimento(dt, alpha, t, N0)\n",
        "\n",
        "tmeia = math.log1p(2)/alpha #meiavida\n",
        "print(tmeia)\n",
        "\n",
        "K = (N*T)/N0 #vidamédia\n",
        "tmédio = sum(K)\n",
        "print(tmédio)\n",
        "\n",
        "plt.plot(T,N)\n",
        "plt.yscale(\"log\")\n",
        "plt.plot\n",
        "plt.show"
      ],
      "execution_count": null,
      "outputs": [
        {
          "output_type": "stream",
          "text": [
            "118.89743383854\n",
            "11593.398263335372\n"
          ],
          "name": "stdout"
        },
        {
          "output_type": "execute_result",
          "data": {
            "text/plain": [
              "<function matplotlib.pyplot.show>"
            ]
          },
          "metadata": {
            "tags": []
          },
          "execution_count": 3
        },
        {
          "output_type": "display_data",
          "data": {
            "image/png": "[encoded data removed]",
            "text/plain": [
              "<Figure size 432x288 with 1 Axes>"
            ]
          },
          "metadata": {
            "tags": [],
            "needs_background": "light"
          }
        }
      ]
    },
    {
      "cell_type": "code",
      "metadata": {
        "id": "Vh0lMY2EDDBl"
      },
      "source": [
        "#Problema de massa-mola por euler-cromer\n",
        "import math\n",
        "import numpy as np\n",
        "import matplotlib.pyplot as plt\n",
        "\n",
        "def massamola(x,v,t,dt):\n",
        "\n",
        "  v = np.zeros(dt*t + 1)\n",
        "  v[0] = 1\n",
        "\n",
        "  x = np.zeros(dt*t + 1)\n",
        "  x[0]= 2\n",
        "  for i in range(0,dt*t):\n",
        "    v[i+dt] = v[i] -dt*x[i]*W02\n",
        "    x[i+dt] = x[i] + v[i+dt]*dt\n",
        "  return v,x\n",
        "\n",
        "dt = 1\n",
        "W02 = 3\n",
        "t = 0\n",
        "v,x = massamola(x,v,t,dt)\n",
        "\n",
        "plt.plot(v,x)\n"
      ],
      "execution_count": null,
      "outputs": []
    },
    {
      "cell_type": "code",
      "metadata": {
        "id": "_ibamXjBOA2S"
      },
      "source": [],
      "execution_count": null,
      "outputs": []
    }
  ]
}