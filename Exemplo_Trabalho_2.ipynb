{
  "nbformat": 4,
  "nbformat_minor": 5,
  "metadata": {
    "kernelspec": {
      "display_name": "Python 3",
      "language": "python",
      "name": "python3"
    },
    "language_info": {
      "codemirror_mode": {
        "name": "ipython",
        "version": 3
      },
      "file_extension": ".py",
      "mimetype": "text/x-python",
      "name": "python",
      "nbconvert_exporter": "python",
      "pygments_lexer": "ipython3",
      "version": "3.8.3"
    },
    "colab": {
      "provenance": [],
      "include_colab_link": true
    }
  },
  "cells": [
    {
      "cell_type": "markdown",
      "metadata": {
        "id": "view-in-github",
        "colab_type": "text"
      },
      "source": [
        "<a href=\"https://colab.research.google.com/github/EduGod0y/Computational-Methods/blob/main/Exemplo_Trabalho_2.ipynb\" target=\"_parent\"><img src=\"https://colab.research.google.com/assets/colab-badge.svg\" alt=\"Open In Colab\"/></a>"
      ]
    },
    {
      "cell_type": "code",
      "metadata": {
        "id": "wz63A1jvFipq"
      },
      "source": [
        "%matplotlib inline\n",
        "import cmath\n",
        "import math\n",
        "import numpy as np\n",
        "from numpy import loadtxt\n",
        "import matplotlib.pyplot as plt\n",
        "from scipy import integrate"
      ],
      "id": "wz63A1jvFipq",
      "execution_count": null,
      "outputs": []
    },
    {
      "cell_type": "markdown",
      "metadata": {
        "id": "fiUWL5TrFipx"
      },
      "source": [
        "# Item a)"
      ],
      "id": "fiUWL5TrFipx"
    },
    {
      "cell_type": "code",
      "metadata": {
        "scrolled": true,
        "id": "u3dcW_ngFipz",
        "outputId": "519a1887-82d6-42d0-f572-cd818344f246"
      },
      "source": [
        "def psi_indep(x,a):\n",
        "    A = np.sqrt(12/a**3)\n",
        "    if 0<x<(a/2):\n",
        "        return A*x\n",
        "    elif (a/2<x<a):\n",
        "        return A*(a-x)\n",
        "    else:\n",
        "        return 0\n",
        "\n",
        "n=10000\n",
        "x_list = np.linspace(-2,5,n)\n",
        "psi_indep_list = [0]\n",
        "\n",
        "i=0\n",
        "while i<n-1:\n",
        "    psi_indep_list.append(psi_indep(x_list[i],3))\n",
        "    i = i+1\n",
        "\n",
        "plt.plot(x_list,psi_indep_list,color='black',label='a = 3')\n",
        "plt.legend()\n",
        "plt.grid(True)\n",
        "plt.ylabel('$\\Psi(x,0)$')\n",
        "plt.xlabel('x')\n",
        "plt.title('$\\Psi$ independente do tempo')"
      ],
      "id": "u3dcW_ngFipz",
      "execution_count": null,
      "outputs": [
        {
          "data": {
            "text/plain": [
              "Text(0.5, 1.0, '$\\\\Psi$ independente do tempo')"
            ]
          },
          "execution_count": 2,
          "metadata": {},
          "output_type": "execute_result"
        },
        {
          "data": {
            "image/png": "[encoded data removed]",
            "text/plain": [
              "<Figure size 432x288 with 1 Axes>"
            ]
          },
          "metadata": {
            "needs_background": "light"
          },
          "output_type": "display_data"
        }
      ]
    },
    {
      "cell_type": "markdown",
      "metadata": {
        "id": "vShNRbaDFip4"
      },
      "source": [
        "# Item b)"
      ],
      "id": "vShNRbaDFip4"
    },
    {
      "cell_type": "code",
      "metadata": {
        "id": "Kjxglu3yFip5",
        "outputId": "d6bd4c48-882b-4f1e-8bac-1c3c0e16def0"
      },
      "source": [
        "c_list = np.zeros(99)\n",
        "h_bar = 1\n",
        "m = 1\n",
        "a=3\n",
        "E_list = np.zeros(99)\n",
        "\n",
        "def integrando_cn(n,x,a):\n",
        "    return np.sqrt(2/a)*np.sin((n*np.pi*x)/a)*psi_indep(x,a)\n",
        "\n",
        "for n in range(1,100):\n",
        "    c_list[n-1],err = np.float128(integrate.quad(lambda x :integrando_cn(n,x,3),0,3))\n",
        "    E_list[n-1] = ((n**2)*(np.pi**2)*(h_bar**2)/(2*m*a**2))\n",
        "    \n",
        "print(c_list)\n",
        "print(sum(c_list**2))"
      ],
      "id": "Kjxglu3yFip5",
      "execution_count": null,
      "outputs": [
        {
          "name": "stdout",
          "output_type": "stream",
          "text": [
            "[ 9.92740800e-01  3.92200062e-17 -1.10304533e-01  1.38002190e-18\n",
            "  3.97096320e-02 -1.53787284e-16 -2.02600163e-02  4.05003035e-16\n",
            "  1.22560593e-02 -2.22122575e-16 -8.20446942e-03 -3.23221360e-16\n",
            "  5.87420592e-03 -4.86250255e-16 -4.41218133e-03 -7.35891375e-17\n",
            "  3.43508927e-03 -6.60479409e-16 -2.74997452e-03  3.93159066e-16\n",
            "  2.25111293e-03 -1.40755239e-15 -1.87663667e-03 -3.32989666e-16\n",
            "  1.58838528e-03 -5.36412414e-16 -1.36178436e-03 -1.64776063e-15\n",
            "  1.18042901e-03  2.43872170e-15 -1.03302893e-03  7.31273441e-16\n",
            "  9.11607714e-04  3.44187340e-16 -8.10400653e-04  5.88671602e-16\n",
            "  7.25157633e-04 -1.48088720e-15 -6.52689547e-04  1.40984712e-15\n",
            "  5.90565616e-04 -1.62167141e-15 -5.36906869e-04  2.04453160e-15\n",
            "  4.90242370e-04 -1.97900434e-15 -4.49407334e-04  1.84145393e-15\n",
            "  4.13469721e-04 -2.17242872e-15 -3.81676586e-04  1.39681528e-15\n",
            "  3.53414311e-04  3.62267747e-15 -3.28178777e-04 -1.96146679e-15\n",
            "  3.05552724e-04 -2.10862494e-16 -2.85188394e-04  5.30527394e-15\n",
            "  2.66794088e-04 -3.46293250e-15 -2.50123658e-04  1.51996950e-15\n",
            "  2.34968237e-04  7.33922290e-16 -2.21149655e-04 -9.55211018e-16\n",
            "  2.08515186e-04 -2.14951690e-15 -1.96933307e-04  1.44953043e-15\n",
            "  1.86290261e-04 -7.66417643e-16 -1.76487253e-04  6.51420310e-16\n",
            "  1.67438151e-04  5.23786380e-16 -1.59067585e-04 -4.27925104e-15\n",
            "  1.51309374e-04  6.95657532e-15 -1.44105211e-04  7.70972977e-17\n",
            "  1.37403571e-04  8.59859924e-16 -1.31158779e-04  1.16390723e-14\n",
            "  1.25330236e-04 -5.67101186e-16 -1.19881753e-04 -5.87111851e-15\n",
            "  1.14780992e-04 -2.61766861e-15 -1.09998981e-04 -6.98432843e-16\n",
            "  1.05509704e-04 -6.49344061e-15 -1.01289746e-04]\n",
            "0.999999835777123\n"
          ]
        }
      ]
    },
    {
      "cell_type": "code",
      "metadata": {
        "id": "VniSol9WFip7",
        "outputId": "cb07c744-257e-4c8b-db4e-bf793fa64657"
      },
      "source": [
        "def psi_real(nmax,x,t):\n",
        "    ss =0\n",
        "    for n in range(1,nmax):\n",
        "        ss = ss + c_list[n-1]*np.sqrt(2/a)*np.sin((n*np.pi*x)/a)*np.cos(E_list[n-1]*t/h_bar)\n",
        "    return ss\n",
        "\n",
        "def psi_imag(nmax,x,t):\n",
        "    ss =0\n",
        "    for n in range(1,nmax):\n",
        "        ss = ss + c_list[n-1]*np.sqrt(2/a)*np.sin((n*np.pi*x)/a)*np.sin(-E_list[n-1]*t/h_bar)\n",
        "    return ss\n",
        "\n",
        "nmax = 20\n",
        "t =5 \n",
        "psi1=[]\n",
        "psi2=[]\n",
        "for x in x_list:\n",
        "    psi1.append(psi_real(nmax,x,t))\n",
        "    psi2.append(psi_imag(nmax,x,t))\n",
        "\n",
        "psi1 = np.array(psi1) \n",
        "psi2 = np.array(psi2)\n",
        "#plt.plot(x_list,psi1, label = 'parte real')\n",
        "#plt.plot(x_list,psi2, label = 'parte imag')\n",
        "plt.plot(x_list,psi1**2+psi2**2, label = 'dens de prob')\n",
        "psi_indep_list = np.array(psi_indep_list)\n",
        "plt.plot(x_list,psi_indep_list**2,color='black',label='a = 3')\n",
        "plt.xlim(0,a)\n",
        "plt.legend()\n",
        "\n",
        "\n",
        "\n",
        "\n",
        "\n",
        "'''#Em t=5\n",
        "def psi_n2(n,x):\n",
        "    return c_list[n]*np.sqrt(2/a)*np.sin((n*np.pi*x)/a)*np.exp(z(n,5))\n",
        "\n",
        "\n",
        "#Em t=10\n",
        "def psi_n3(n,x):\n",
        "    return c_list[n]*np.sqrt(2/a)*np.sin((n*np.pi*x)/a)*np.exp(z(n,10))\n",
        "\n",
        "\n",
        "\n",
        "\n",
        "psi_values = np.zeros(99)\n",
        "\n",
        "plt.plot(x_list,psi_n(3,x_list))\n",
        "plt.xlim(0,3)'''\n",
        "            \n",
        "                   "
      ],
      "id": "VniSol9WFip7",
      "execution_count": null,
      "outputs": [
        {
          "data": {
            "text/plain": [
              "'#Em t=5\\ndef psi_n2(n,x):\\n    return c_list[n]*np.sqrt(2/a)*np.sin((n*np.pi*x)/a)*np.exp(z(n,5))\\n\\n\\n#Em t=10\\ndef psi_n3(n,x):\\n    return c_list[n]*np.sqrt(2/a)*np.sin((n*np.pi*x)/a)*np.exp(z(n,10))\\n\\n\\n\\n\\npsi_values = np.zeros(99)\\n\\nplt.plot(x_list,psi_n(3,x_list))\\nplt.xlim(0,3)'"
            ]
          },
          "execution_count": 21,
          "metadata": {},
          "output_type": "execute_result"
        },
        {
          "data": {
            "image/png": "[encoded data removed]",
            "text/plain": [
              "<Figure size 432x288 with 1 Axes>"
            ]
          },
          "metadata": {
            "needs_background": "light"
          },
          "output_type": "display_data"
        }
      ]
    }
  ]
}