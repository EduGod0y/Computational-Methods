{
  "nbformat": 4,
  "nbformat_minor": 0,
  "metadata": {
    "colab": {
      "provenance": [],
      "authorship_tag": "ABX9TyNNSdS8lrCkzwBm6Rqvy2+A",
      "include_colab_link": true
    },
    "kernelspec": {
      "name": "python3",
      "display_name": "Python 3"
    }
  },
  "cells": [
    {
      "cell_type": "markdown",
      "metadata": {
        "id": "view-in-github",
        "colab_type": "text"
      },
      "source": [
        "<a href=\"https://colab.research.google.com/github/EduGod0y/Computational-Methods/blob/main/P%C3%AAndulo_simples.ipynb\" target=\"_parent\"><img src=\"https://colab.research.google.com/assets/colab-badge.svg\" alt=\"Open In Colab\"/></a>"
      ]
    },
    {
      "cell_type": "code",
      "metadata": {
        "id": "YAydwcaBDS22"
      },
      "source": [
        "import numpy as np\n",
        "import matplotlib.pyplot as plt"
      ],
      "execution_count": null,
      "outputs": []
    },
    {
      "cell_type": "code",
      "metadata": {
        "id": "yaK1N_dAc5VL"
      },
      "source": [
        "#Valores iniciais\n",
        "w = 1\n",
        "dt = 0.1\n",
        "x = 0.1 \n",
        "v = 0.0\n",
        "g = 10\n",
        "l = 10\n",
        "t = 0\n",
        "tf = 20\n",
        "x_ex_list = [x]\n",
        "x_cr_list = [x]\n",
        "x_a_list = [x]\n",
        "v_ex_list = [v]\n",
        "v_cr_list = [v]\n",
        "v_a_list = [v]\n",
        "t_list = [0]\n"
      ],
      "execution_count": null,
      "outputs": []
    },
    {
      "cell_type": "code",
      "metadata": {
        "id": "u9VlOofraDur"
      },
      "source": [
        "#Método de Euler explícito\n",
        "while t<tf:\n",
        "  x1 = x\n",
        "  x = x + v*dt\n",
        "  v = v - (w**2)*np.sin(x1)*dt\n",
        "  t+=dt\n",
        "  x_ex_list = [x]\n",
        "  v_ex_list = [v]\n",
        "  x_ex_list.append(x)\n",
        "  v_ex_list.append(v)\n",
        "  t_list.append(t)"
      ],
      "execution_count": null,
      "outputs": []
    },
    {
      "cell_type": "code",
      "metadata": {
        "id": "v1BT6t8Sj9k7"
      },
      "source": [
        "#Método de Euler Cromer\n",
        "while t<tf:\n",
        "  x = x + v*dt\n",
        "  v = v - (w**2)*np.sin(x)*dt\n",
        "  t+=dt\n",
        "  x_cr_list = [x]\n",
        "  v_ex_list = [v]\n",
        "  x_cr_list.append(x)\n",
        "  v_cr_list.append(v)\n",
        "  t_list.append(t)"
      ],
      "execution_count": null,
      "outputs": []
    },
    {
      "cell_type": "code",
      "metadata": {
        "id": "YequUjJUl-bP"
      },
      "source": [
        "plt.plot(t_list,x_cr_list)\n"
      ],
      "execution_count": null,
      "outputs": []
    }
  ]
}