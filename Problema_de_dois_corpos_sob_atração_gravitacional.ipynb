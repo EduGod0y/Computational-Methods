{
  "nbformat": 4,
  "nbformat_minor": 0,
  "metadata": {
    "colab": {
      "provenance": [],
      "authorship_tag": "ABX9TyMcHYRaI5yFWOM8yJcCwvnz",
      "include_colab_link": true
    },
    "kernelspec": {
      "name": "python3",
      "display_name": "Python 3"
    },
    "language_info": {
      "name": "python"
    }
  },
  "cells": [
    {
      "cell_type": "markdown",
      "metadata": {
        "id": "view-in-github",
        "colab_type": "text"
      },
      "source": [
        "<a href=\"https://colab.research.google.com/github/EduGod0y/Computational-Methods/blob/main/Problema_de_dois_corpos_sob_atra%C3%A7%C3%A3o_gravitacional.ipynb\" target=\"_parent\"><img src=\"https://colab.research.google.com/assets/colab-badge.svg\" alt=\"Open In Colab\"/></a>"
      ]
    },
    {
      "cell_type": "code",
      "metadata": {
        "id": "rNOYtSB_UaH4",
        "colab": {
          "base_uri": "https://localhost:8080/",
          "height": 303
        },
        "outputId": "5d97f591-1d81-4c83-e1ad-01b5ef6b47b9"
      },
      "source": [
        "import time\n",
        "from math import *\n",
        "import matplotlib.pyplot as plt\n",
        "\n",
        "#definindo variaveis\n",
        "tolerance = 1e-4\n",
        "dt0 = 1e-5\n",
        "x0 = 0.001\n",
        "a = 0.1 \n",
        "tf = 70\n",
        "ms=[1,2,3,5,10,20,40,50,70,90]\n",
        "\n",
        "#definindo funcoes\n",
        "def rk2(dt, x):\n",
        "    k1 = a*x*(2 - x)\n",
        "    x_aux = x + (1./2.)*k1*dt\n",
        "    k2 = a*x_aux*(2 - x_aux)\n",
        "    x = x + k2*dt\n",
        "        \n",
        "    return x\n",
        "\n",
        "\n",
        "def rk4(dt, x):\n",
        "    k1 = a*x*(2 - x)\n",
        "    k2 = a*x*(2 - (x + (1./2.)*k1*dt))\n",
        "    k3 = a*x*(2 - (x + (1./2.)*k2*dt))\n",
        "    k4 = a*x*(2 - (x + k3*dt))\n",
        "    x = x + (1./6.)*(k1 + 2.*k2 + 2.*k3 + k4)*dt\n",
        "        \n",
        "    return x\n",
        "\n",
        "\n",
        "\n",
        "#algoritmo\n",
        "tempos = []\n",
        "ml= []\n",
        "\n",
        "for i in range(len(ms)):\n",
        "    start_time = 0.\n",
        "    m=ms[i]\n",
        "    n = 0\n",
        "    t = 0.\n",
        "    start_time = time.time()\n",
        "    xlist = []\n",
        "    tlist = []\n",
        "\n",
        "    x = x0\n",
        "    dt = dt0\n",
        "\n",
        "    while (t<=tf):\n",
        "        xa = x\n",
        "        n = n+1\n",
        "        x_rk2 = rk2(dt, x)  \n",
        "        x = rk4(dt, x)\n",
        "        if n%m == 0:\n",
        "            \n",
        "            current_error = sqrt(abs( ((x - xa)**2) - ((x_rk2 - xa)**2) ))\n",
        "            dt_new = dt * ((tolerance/current_error)**(1/3))\n",
        "\n",
        "            if dt_new > 2*dt:\n",
        "                dt_new = 2*dt\n",
        "                dt = dt_new\n",
        "\n",
        "            else:\n",
        "                dt = dt_new\n",
        "\n",
        "\n",
        "        \n",
        "        #print(x)\n",
        "        tlist.append(t)\n",
        "        xlist.append(x)\n",
        "        t = t+dt\n",
        "\n",
        "    tempo = time.time() - start_time\n",
        "    tempos.append(tempo)\n",
        "    ml.append(m)\n",
        "\n",
        "\n",
        "#print(plot_x)\n",
        "#fazer um sort na lista depois e encontrar o elemento que tem menor tempo de execucao\n",
        "shortest = [i[0] for i in sorted(enumerate(tempos), key=lambda x:x[1])][0]\n",
        "shortest_m = ml[shortest]\n",
        "print(f\"o m com menor tempo é {shortest_m}, demorando {tempos[shortest]} segundos para rodar o programa, e o erro de {current_error}\")\n",
        "\n",
        "plt.plot(tlist, xlist)"
      ],
      "execution_count": null,
      "outputs": [
        {
          "output_type": "stream",
          "text": [
            "o m com menor tempo é 5, demorando 0.0021409988403320312 segundos para rodar o programa, e o erro de 1.5500478700663597e-06\n"
          ],
          "name": "stdout"
        },
        {
          "output_type": "execute_result",
          "data": {
            "text/plain": [
              "[<matplotlib.lines.Line2D at 0x7f512568aa20>]"
            ]
          },
          "metadata": {
            "tags": []
          },
          "execution_count": 10
        },
        {
          "output_type": "display_data",
          "data": {
            "image/png": "[encoded data removed]",
            "text/plain": [
              "<Figure size 432x288 with 1 Axes>"
            ]
          },
          "metadata": {
            "tags": []
          }
        }
      ]
    }
  ]
}